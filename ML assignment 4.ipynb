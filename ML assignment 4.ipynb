{
 "cells": [
  {
   "cell_type": "code",
   "execution_count": 78,
   "metadata": {},
   "outputs": [],
   "source": [
    "import numpy as np\n",
    "import matplotlib.pyplot as plt\n",
    "from __future__ import division\n",
    "import math"
   ]
  },
  {
   "cell_type": "code",
   "execution_count": 79,
   "metadata": {},
   "outputs": [
    {
     "name": "stdout",
     "output_type": "stream",
     "text": [
      "(60L, 64L)\n"
     ]
    }
   ],
   "source": [
    "from sklearn.datasets import load_digits\n",
    "images, labels = load_digits(2, return_X_y=True)\n",
    "\n",
    "# Labeled training set\n",
    "training_images = images[:300]\n",
    "train = training_images\n",
    "training_labels = labels[:300]\n",
    "\n",
    "# Labeled test set\n",
    "test_images = images[300:]\n",
    "test_labels = labels[300:]\n",
    "print(test_images.shape)"
   ]
  },
  {
   "cell_type": "markdown",
   "metadata": {},
   "source": [
    "## k-NN Classification Using 2-D Features"
   ]
  },
  {
   "cell_type": "markdown",
   "metadata": {},
   "source": [
    "### Center training data"
   ]
  },
  {
   "cell_type": "code",
   "execution_count": 80,
   "metadata": {},
   "outputs": [],
   "source": [
    "# Computation of the empirical mean of data, both as a vector and as a tiled matrix\n",
    "new_training_images = (np.sum(training_images, axis=0))/300\n",
    "#mean_mat = np.tile()\n",
    "\n",
    "# Centered data matrix\n",
    "training_centered = training_images - new_training_images\n"
   ]
  },
  {
   "cell_type": "markdown",
   "metadata": {},
   "source": [
    "### PCA of training data"
   ]
  },
  {
   "cell_type": "code",
   "execution_count": 81,
   "metadata": {},
   "outputs": [
    {
     "name": "stdout",
     "output_type": "stream",
     "text": [
      "The left singular matrix of training data is : \n",
      "[[ 6.46377079e-02 -1.58874097e-03  1.35998005e-03 ...  0.00000000e+00\n",
      "   0.00000000e+00  0.00000000e+00]\n",
      " [-8.13015756e-02 -7.45547849e-03  1.64672015e-02 ...  7.57830444e-02\n",
      "   1.29630665e-03  5.13951416e-03]\n",
      " [ 4.47470468e-02 -2.15953877e-04  4.46417572e-02 ... -6.32716529e-02\n",
      "   6.36156078e-02  9.58577665e-02]\n",
      " ...\n",
      " [-3.33115966e-03  1.33884827e-01 -5.86861115e-02 ...  7.44338270e-01\n",
      "   1.54446407e-02 -1.86493141e-02]\n",
      " [ 7.39864043e-02 -9.59594291e-03  7.53748795e-03 ...  2.12829470e-02\n",
      "   8.51669581e-01 -5.58216327e-02]\n",
      " [ 7.20429872e-02 -1.71744609e-02 -2.59479760e-02 ... -4.30433918e-03\n",
      "  -5.63903302e-02  8.46364291e-01]]\n",
      "\n",
      "\n",
      "\n",
      "\n",
      "The indices of the maximum eigen values\n",
      "[0 1]\n",
      "\n",
      "\n",
      "The top 2 PCA Components\n",
      "(300L, 2L)\n",
      "(300L,)\n"
     ]
    }
   ],
   "source": [
    "# Singular Value and Eigenvalue Decomposition of training data\n",
    "# Singular Value Decomposition of training_images:\n",
    "\n",
    "U,D,VT = np.linalg.svd(training_centered) \n",
    "print(\"The left singular matrix of training data is : \")\n",
    "print(U)\n",
    "print(\"\\n\")\n",
    "\n",
    "# Compute XX(transpose)\n",
    "X_XT = np.matmul(training_centered,training_centered.transpose())\n",
    "\n",
    "\n",
    "# w gives the eigen values, v gives the eigen vectors\n",
    "w,v = np.linalg.eig(X_XT)\n",
    "print(\"\\n\")\n",
    "#print(w)\n",
    "\n",
    "print(\"The indices of the maximum eigen values\")\n",
    "top = (-w).argsort()[:2]\n",
    "print((-w).argsort()[:2])\n",
    "print(\"\\n\")\n",
    "\n",
    "print(\"The top 2 PCA Components\")\n",
    "PCA = v[:,top]\n",
    "print(PCA.shape)\n",
    "print(training_labels.shape)\n",
    " \n",
    "\n"
   ]
  },
  {
   "cell_type": "markdown",
   "metadata": {},
   "source": [
    "### Scatter plot of training data"
   ]
  },
  {
   "cell_type": "code",
   "execution_count": 82,
   "metadata": {},
   "outputs": [
    {
     "data": {
      "text/plain": [
       "<matplotlib.collections.PathCollection at 0x1161f978>"
      ]
     },
     "execution_count": 82,
     "metadata": {},
     "output_type": "execute_result"
    },
    {
     "data": {
      "image/png": "[encoded data removed]",
      "text/plain": [
       "<matplotlib.figure.Figure at 0x10f6ce80>"
      ]
     },
     "metadata": {},
     "output_type": "display_data"
    }
   ],
   "source": [
    "# Scatter Plots\n",
    "# original data samples\n",
    "label_color_dict = {0:'red',1:'green'}\n",
    "\n",
    "# Color vector creation\n",
    "cvec = [label_color_dict[label] for label in training_labels[:]]\n",
    "#print(cvec)\n",
    "\n",
    "plt.scatter(PCA[:, 0], PCA[:, 1], color = cvec)\n",
    "\n"
   ]
  },
  {
   "cell_type": "markdown",
   "metadata": {},
   "source": [
    "# KNN on test data "
   ]
  },
  {
   "cell_type": "markdown",
   "metadata": {},
   "source": [
    "### Center test data"
   ]
  },
  {
   "cell_type": "code",
   "execution_count": 83,
   "metadata": {},
   "outputs": [],
   "source": [
    "# Computation of the empirical mean of data, both as a vector and as a tiled matrix\n",
    "new_test_images = (np.sum(test_images, axis=0))/60\n",
    "\n",
    "\n",
    "# Centered data matrix\n",
    "test_centered = test_images - new_test_images\n"
   ]
  },
  {
   "cell_type": "code",
   "execution_count": 84,
   "metadata": {},
   "outputs": [
    {
     "name": "stdout",
     "output_type": "stream",
     "text": [
      "The left singular matrix of testing data is : \n",
      "[[-0.13735682 -0.01397738  0.15017317 ... -0.04655568 -0.10676143\n",
      "  -0.09512653]\n",
      " [-0.08341488  0.38170415 -0.01298143 ... -0.00939618 -0.0381324\n",
      "   0.04359539]\n",
      " [-0.00293161  0.32593424 -0.02773281 ...  0.04133766  0.07371036\n",
      "  -0.13946694]\n",
      " ...\n",
      " [-0.07455548 -0.11933728  0.00898389 ...  0.03961286 -0.02378166\n",
      "   0.09313677]\n",
      " [ 0.09010618 -0.04115638 -0.22469292 ...  0.16832017 -0.01950335\n",
      "  -0.07980374]\n",
      " [-0.15132644 -0.05676095 -0.11684448 ... -0.06676747 -0.18845027\n",
      "  -0.00654032]]\n",
      "\n",
      "\n",
      "\n",
      "\n",
      "The indices of the maximum eigen values\n",
      "[0 1]\n",
      "\n",
      "\n",
      "The top 2 PCA Components\n"
     ]
    }
   ],
   "source": [
    "# Singular Value and Eigenvalue Decomposition of testing data\n",
    "# Singular Value Decomposition of testing_images:\n",
    "\n",
    "U_test,D_test,VT_test = np.linalg.svd(test_centered, full_matrices=True) \n",
    "print(\"The left singular matrix of testing data is : \")\n",
    "print(U_test)\n",
    "print(\"\\n\")\n",
    "\n",
    "# Compute XX(transpose)\n",
    "X_XT_test = np.matmul(test_centered,test_centered.transpose())\n",
    "\n",
    "\n",
    "# w gives the eigen values, v gives the eigen vectors\n",
    "w_test,v_test = np.linalg.eig(X_XT_test)\n",
    "print(\"\\n\")\n",
    "#print(w)\n",
    "\n",
    "print(\"The indices of the maximum eigen values\")\n",
    "top_test = (-w_test).argsort()[:2]\n",
    "print((-w_test).argsort()[:2])\n",
    "print(\"\\n\")\n",
    "\n",
    "print(\"The top 2 PCA Components\")\n",
    "PCA_test = v_test[:,top_test]\n",
    "#print(PCA_test)\n"
   ]
  },
  {
   "cell_type": "markdown",
   "metadata": {},
   "source": [
    "## KNN algorithm from scratch"
   ]
  },
  {
   "cell_type": "markdown",
   "metadata": {},
   "source": [
    "### Algorithm\n",
    "#### Find the euclidean distance corresponding to each row in the test data from the training data. Sort the distances to get 5 minimum distances and find the labels corresponding to those distances.\n",
    "#### Find the label that out numbers the rest of the labels and assign it to each of the testing data\n",
    "#### Computer the difference between actual labels and the labels that we get. If the difference is either 1 or -1, the data is incorrectly classified and if the difference is 0 the data is correctly classified"
   ]
  },
  {
   "cell_type": "code",
   "execution_count": 85,
   "metadata": {},
   "outputs": [
    {
     "name": "stdout",
     "output_type": "stream",
     "text": [
      "[1 1 1 1 1 1 1 1 1 1 0 1 0 1 0 1 1 0 0 1 1 1 0 0 1 1 0 0 0 0 0 1 0 1 1 0 1\n",
      " 0 1 0 1 1 0 0 1 1 1 0 0 1 1 1 0 0 0 0 0 1 0 1]\n",
      "\n",
      "\n",
      "The actual test data\n",
      "[0 1 1 1 1 1 0 1 0 0 1 0 1 0 1 0 0 1 1 0 0 0 1 1 0 0 1 1 1 1 1 0 1 0 0 1 0\n",
      " 1 0 1 0 0 1 1 0 0 0 1 1 0 0 0 1 1 1 1 1 0 1 0]\n",
      "\n",
      "\n",
      "[ 1  0  0  0  0  0  1  0  1  1 -1  1 -1  1 -1  1  1 -1 -1  1  1  1 -1 -1\n",
      "  1  1 -1 -1 -1 -1 -1  1 -1  1  1 -1  1 -1  1 -1  1  1 -1 -1  1  1  1 -1\n",
      " -1  1  1  1 -1 -1 -1 -1 -1  1 -1  1]\n"
     ]
    }
   ],
   "source": [
    "# each row of test_matrix_labels corresponds to the distance of each row of test data from 5 nearest points from training data\n",
    "\n",
    "test_matrix_labels = np.eye(60,5)\n",
    "\n",
    "\n",
    "new_test_labels = []\n",
    "for i in range(60):\n",
    "    distances = []\n",
    "    \n",
    "    for j in range(300):\n",
    "        X = PCA[j,:]  - PCA_test[i,:]  \n",
    "        distances.append(np.linalg.norm(X))\n",
    "        \n",
    "        \n",
    "    distances = np.array(distances)\n",
    "    distances_new = np.argsort(distances) # returns the index of top 5 minimum distances \n",
    "    distances_new = distances_new[0:5] \n",
    "    \n",
    "    #get the training data corresponding to each distances_new index\n",
    "    #test_matrix_data[i,:] = PCA[distances_new,:]\n",
    "    test_matrix_labels[i,:] = training_labels[distances_new]\n",
    "    new_test_labels.append(int(max(test_matrix_labels[i,:].tolist(),key=(test_matrix_labels[i,:].tolist()).count)))\n",
    "    \n",
    "    \n",
    "        \n",
    "print(np.array(new_test_labels))\n",
    "print(\"\\n\")\n",
    "print(\"The actual test data\")\n",
    "print(test_labels)\n",
    "print(\"\\n\")\n",
    "print(np.array(new_test_labels)-test_labels)\n",
    "\n",
    "diff = np.array(new_test_labels)-test_labels\n",
    "new_diff = []\n",
    "for i in diff:\n",
    "    if i != 0:\n",
    "        i ='incorrectly classified'\n",
    "    else:\n",
    "        i = 'correctly classified'\n",
    "    new_diff.append(i)\n"
   ]
  },
  {
   "cell_type": "code",
   "execution_count": 86,
   "metadata": {},
   "outputs": [
    {
     "data": {
      "text/plain": [
       "<matplotlib.collections.PathCollection at 0x11313278>"
      ]
     },
     "execution_count": 86,
     "metadata": {},
     "output_type": "execute_result"
    },
    {
     "data": {
      "image/png": "[encoded data removed]",
      "text/plain": [
       "<matplotlib.figure.Figure at 0x108a8c50>"
      ]
     },
     "metadata": {},
     "output_type": "display_data"
    }
   ],
   "source": [
    "# Scatter Plots\n",
    "# original data samples\n",
    "label_color_test = {'correctly classified':'blue','incorrectly classified':'black'}\n",
    "\n",
    "# Color vector creation\n",
    "cvec_test = [label_color_test[label] for label in new_diff]\n",
    "#print(cvec)\n",
    "\n",
    "plt.scatter(PCA_test[:, 0], PCA_test[:, 1], color = cvec_test)"
   ]
  },
  {
   "cell_type": "code",
   "execution_count": 87,
   "metadata": {},
   "outputs": [
    {
     "name": "stdout",
     "output_type": "stream",
     "text": [
      "[ 1  0  0  0  0  0  1  0  1  1 -1  1 -1  1 -1  1  1 -1 -1  1  1  1 -1 -1\n",
      "  1  1 -1 -1 -1 -1 -1  1 -1  1  1 -1  1 -1  1 -1  1  1 -1 -1  1  1  1 -1\n",
      " -1  1  1  1 -1 -1 -1 -1 -1  1 -1  1]\n",
      "54\n",
      "0.9\n"
     ]
    }
   ],
   "source": [
    "#Average Classification Error\n",
    "avg_error = []\n",
    "avg = 0\n",
    "print(diff)\n",
    "for i in diff.tolist():\n",
    "    if i != 0:\n",
    "        i=1\n",
    "    else:\n",
    "        i=0\n",
    "    avg_error.append(i)\n",
    "for i in avg_error:\n",
    "    avg = avg + i\n",
    "print(avg)\n",
    "    \n",
    "avg = avg/60\n",
    "print(avg)\n",
    "#avg_classification = np.sum((avg_error))/60\n",
    "#print(avg_classification)\n",
    "#print(avg_error)"
   ]
  },
  {
   "cell_type": "markdown",
   "metadata": {},
   "source": [
    "## k-NN Classification Using Higher-dimensional Features"
   ]
  },
  {
   "cell_type": "code",
   "execution_count": 88,
   "metadata": {},
   "outputs": [
    {
     "name": "stdout",
     "output_type": "stream",
     "text": [
      "0\n",
      "1\n",
      "2\n",
      "3\n",
      "4\n",
      "5\n",
      "6\n",
      "7\n",
      "8\n",
      "9\n",
      "10\n",
      "11\n",
      "12\n",
      "13\n",
      "14\n",
      "15\n",
      "16\n",
      "17\n",
      "18\n",
      "(300L, 64L)\n"
     ]
    }
   ],
   "source": [
    "#1. r-Dimensional PCA Features\n",
    "from sklearn.decomposition import PCA\n",
    "#1. Principal Component Analysis\n",
    "\n",
    "#Mean Centering:sum\n",
    "mean_vec = (np.sum(training_images, axis=0))/300\n",
    "training_images = training_images - mean_vec\n",
    "\n",
    "#Singular Value Decomposition\n",
    "u_tr,v_tr,sh_tr = np.linalg.svd(training_images,True)\n",
    "\n",
    "#Finding r-value\n",
    "r = 0; cum_sum = 0\n",
    "variance = np.linalg.norm(training_images)**2\n",
    "for i in range(len(training_images)):\n",
    "    print(i)\n",
    "    cum_sum = cum_sum + v_tr[i]**2\n",
    "    if cum_sum/variance >= 0.95:\n",
    "        r = i+1\n",
    "        break\n",
    "print(training_images.shape)"
   ]
  },
  {
   "cell_type": "markdown",
   "metadata": {},
   "source": [
    "### R dimensional PCA for training dataset"
   ]
  },
  {
   "cell_type": "code",
   "execution_count": 89,
   "metadata": {},
   "outputs": [
    {
     "name": "stdout",
     "output_type": "stream",
     "text": [
      "The left singular matrix of training data is : \n",
      "[[ 6.46377079e-02 -1.58874097e-03  1.35998005e-03 ...  0.00000000e+00\n",
      "   0.00000000e+00  0.00000000e+00]\n",
      " [-8.13015756e-02 -7.45547849e-03  1.64672015e-02 ...  7.57830444e-02\n",
      "   1.29630665e-03  5.13951416e-03]\n",
      " [ 4.47470468e-02 -2.15953877e-04  4.46417572e-02 ... -6.32716529e-02\n",
      "   6.36156078e-02  9.58577665e-02]\n",
      " ...\n",
      " [-3.33115966e-03  1.33884827e-01 -5.86861115e-02 ...  7.44338270e-01\n",
      "   1.54446407e-02 -1.86493141e-02]\n",
      " [ 7.39864043e-02 -9.59594291e-03  7.53748795e-03 ...  2.12829470e-02\n",
      "   8.51669581e-01 -5.58216327e-02]\n",
      " [ 7.20429872e-02 -1.71744609e-02 -2.59479760e-02 ... -4.30433918e-03\n",
      "  -5.63903302e-02  8.46364291e-01]]\n",
      "\n",
      "\n",
      "\n",
      "\n",
      "The indices of the maximum eigen values\n",
      "[ 0  1  2  3  4  5  6  7  8  9 10 11 12 13 14 15 16 17 18]\n",
      "\n",
      "\n",
      "The top r PCA Components\n",
      "(300L, 19L)\n"
     ]
    }
   ],
   "source": [
    "# r dimensional PCA features\n",
    "# Singular Value and Eigenvalue Decomposition of training data\n",
    "# Singular Value Decomposition of training_images:\n",
    "\n",
    "Ur,Dr,VTr = np.linalg.svd(training_centered) \n",
    "print(\"The left singular matrix of training data is : \")\n",
    "print(U)\n",
    "print(\"\\n\")\n",
    "\n",
    "# Compute XX(transpose)\n",
    "X_XTr = np.matmul(training_centered,training_centered.transpose())\n",
    "\n",
    "\n",
    "# w gives the eigen values, v gives the eigen vectors\n",
    "wr,vr = np.linalg.eig(X_XTr)\n",
    "print(\"\\n\")\n",
    "#print(w)\n",
    "\n",
    "print(\"The indices of the maximum eigen values\")\n",
    "topr = (-wr).argsort()[:r]\n",
    "print((-wr).argsort()[:r])\n",
    "print(\"\\n\")\n",
    "\n",
    "print(\"The top r PCA Components\")\n",
    "PCAr = v[:,topr]\n",
    "print(PCAr.shape)\n"
   ]
  },
  {
   "cell_type": "markdown",
   "metadata": {},
   "source": [
    "### r dimensional PCA features for test data"
   ]
  },
  {
   "cell_type": "code",
   "execution_count": 90,
   "metadata": {},
   "outputs": [
    {
     "name": "stdout",
     "output_type": "stream",
     "text": [
      "The left singular matrix of testing data is : \n",
      "[[-0.13735682 -0.01397738  0.15017317 ... -0.04655568 -0.10676143\n",
      "  -0.09512653]\n",
      " [-0.08341488  0.38170415 -0.01298143 ... -0.00939618 -0.0381324\n",
      "   0.04359539]\n",
      " [-0.00293161  0.32593424 -0.02773281 ...  0.04133766  0.07371036\n",
      "  -0.13946694]\n",
      " ...\n",
      " [-0.07455548 -0.11933728  0.00898389 ...  0.03961286 -0.02378166\n",
      "   0.09313677]\n",
      " [ 0.09010618 -0.04115638 -0.22469292 ...  0.16832017 -0.01950335\n",
      "  -0.07980374]\n",
      " [-0.15132644 -0.05676095 -0.11684448 ... -0.06676747 -0.18845027\n",
      "  -0.00654032]]\n",
      "\n",
      "\n",
      "\n",
      "\n",
      "The indices of the maximum eigen values\n",
      "[ 0  1  2  3  4  5  6  7  8  9 10 11 12 13 14 15 16 17 18]\n",
      "\n",
      "\n",
      "The top r PCA Components\n",
      "(60L, 19L)\n"
     ]
    }
   ],
   "source": [
    "# Singular Value and Eigenvalue Decomposition of testing data\n",
    "# Singular Value Decomposition of testing_images:\n",
    "\n",
    "U_testr,D_testr,VT_testr = np.linalg.svd(test_centered, full_matrices=True) \n",
    "print(\"The left singular matrix of testing data is : \")\n",
    "print(U_testr)\n",
    "print(\"\\n\")\n",
    "\n",
    "# Compute XX(transpose)\n",
    "X_XT_testr = np.matmul(test_centered,test_centered.transpose())\n",
    "\n",
    "\n",
    "# w gives the eigen values, v gives the eigen vectors\n",
    "w_testr,v_testr = np.linalg.eig(X_XT_testr)\n",
    "print(\"\\n\")\n",
    "#print(w)\n",
    "\n",
    "print(\"The indices of the maximum eigen values\")\n",
    "top_testr = (-w_testr).argsort()[:r]\n",
    "print((-w_testr).argsort()[:r])\n",
    "print(\"\\n\")\n",
    "\n",
    "print(\"The top r PCA Components\")\n",
    "PCA_testr = v_testr[:,top_testr]\n",
    "print(PCA_testr.shape)\n"
   ]
  },
  {
   "cell_type": "code",
   "execution_count": 91,
   "metadata": {},
   "outputs": [
    {
     "name": "stdout",
     "output_type": "stream",
     "text": [
      "[0.9, 0.9, 0.9, 0.9, 0.9]\n"
     ]
    }
   ],
   "source": [
    "# for k from 1 to 9 where k is odd, initilaize a numpy array where each row gives the classification //\n",
    "# labels error(-1,1,0) for each k\n",
    "# k = 1,3,5,7,9\n",
    "average_list = []\n",
    "#matrix_diff_k = np.eye(5,60)\n",
    "for k in range(1,10,2):\n",
    "    #print(k)\n",
    "    test_matrix_labelsr = np.eye(60,k) #get the labels for each testing data\n",
    "    new_test_labelsr = []\n",
    "    for i in range(60):\n",
    "        distancesr = []\n",
    "        for j in range(300):\n",
    "            Xr = PCAr[j,:]  - PCA_testr[i,:]  \n",
    "            distancesr.append(np.linalg.norm(Xr))\n",
    "        \n",
    "        distancesr = np.array(distancesr)\n",
    "        distances_newr = np.argsort(distancesr) # returns the index of top 5 minimum distances \n",
    "        distances_newr = distances_newr[0:k] \n",
    "        #print(distances_newr)\n",
    "        #get the training data corresponding to each distances_new index\n",
    "        #test_matrix_data[i,:] = PCA[distances_new,:]\n",
    "        test_matrix_labelsr[i,:] = training_labels[distances_newr]\n",
    "        #print(test_matrix_labelsr.shape)\n",
    "        new_test_labelsr.append(int(max(test_matrix_labelsr[i,:].tolist(),key=(test_matrix_labelsr[i,:].tolist()).count)))\n",
    "    \n",
    "    \n",
    "        \n",
    "    #print(np.array(new_test_labelsr))\n",
    "    #print(\"\\n\")\n",
    "    #print(\"The actual test data\")\n",
    "    #print(test_labels)\n",
    "    #print(\"\\n\")\n",
    "    #print(np.array(new_test_labelsr)-test_labels)\n",
    "\n",
    "    diffr = np.array(new_test_labelsr)-test_labels\n",
    "    new_diffr = []\n",
    "    for y in diffr:\n",
    "        if y != 0:\n",
    "            y ='incorrectly classified'\n",
    "        else:\n",
    "            y = 'correctly classified'\n",
    "        new_diffr.append(y)\n",
    "    #Average Classification Error\n",
    "    avg_error = []\n",
    "    avg = 0\n",
    "    #print(diffr)\n",
    "    for u in diff.tolist():\n",
    "        if u != 0:\n",
    "            u=1\n",
    "        else:\n",
    "            u=0\n",
    "        avg_error.append(u)\n",
    "    for t in avg_error:\n",
    "        avg = avg + t\n",
    "    #print(avg)\n",
    "    \n",
    "    avg = avg/60\n",
    "    #print(avg)\n",
    "    average_list.append(avg)\n",
    "print(average_list)"
   ]
  },
  {
   "cell_type": "code",
   "execution_count": 92,
   "metadata": {},
   "outputs": [
    {
     "data": {
      "text/plain": [
       "<matplotlib.collections.PathCollection at 0x1058e470>"
      ]
     },
     "execution_count": 92,
     "metadata": {},
     "output_type": "execute_result"
    },
    {
     "data": {
      "image/png": "[encoded data removed]",
      "text/plain": [
       "<matplotlib.figure.Figure at 0x11321f98>"
      ]
     },
     "metadata": {},
     "output_type": "display_data"
    }
   ],
   "source": [
    "k = [1,3,5,7,9]\n",
    "plt.scatter(k,average_list)"
   ]
  },
  {
   "cell_type": "markdown",
   "metadata": {},
   "source": [
    "### we are not supposed to get the same average value for each k. But after implementing a few lines of code using scikit learn for cross checking my values, I noticed that the error was zero for k=5 and went slightly up for other values of k. This is due to more variation in the scattered data."
   ]
  },
  {
   "cell_type": "code",
   "execution_count": null,
   "metadata": {},
   "outputs": [],
   "source": []
  }
 ],
 "metadata": {
  "kernelspec": {
   "display_name": "Python 2",
   "language": "python",
   "name": "python2"
  },
  "language_info": {
   "codemirror_mode": {
    "name": "ipython",
    "version": 2
   },
   "file_extension": ".py",
   "mimetype": "text/x-python",
   "name": "python",
   "nbconvert_exporter": "python",
   "pygments_lexer": "ipython2",
   "version": "2.7.14"
  }
 },
 "nbformat": 4,
 "nbformat_minor": 2
}
